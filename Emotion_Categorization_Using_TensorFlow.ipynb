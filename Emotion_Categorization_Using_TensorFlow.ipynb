{
 "cells": [
  {
   "cell_type": "markdown",
   "metadata": {
    "id": "O60qBehPK7RD"
   },
   "source": [
    "# Emotion Categorization Using TensorFlow"
   ]
  },
  {
   "cell_type": "markdown",
   "metadata": {
    "id": "Y6s8X7UuMKiy"
   },
   "source": [
    "# Import Library untuk proyek\n",
    "\n"
   ]
  },
  {
   "cell_type": "code",
   "execution_count": 1,
   "metadata": {
    "colab": {
     "base_uri": "https://localhost:8080/"
    },
    "id": "HbHakEgOKqaI",
    "outputId": "f8df0914-61a5-4ee0-efaa-e3602035913b"
   },
   "outputs": [
    {
     "ename": "ModuleNotFoundError",
     "evalue": "No module named 'google'",
     "output_type": "error",
     "traceback": [
      "\u001b[1;31m---------------------------------------------------------------------------\u001b[0m",
      "\u001b[1;31mModuleNotFoundError\u001b[0m                       Traceback (most recent call last)",
      "\u001b[1;32m<ipython-input-1-202f4601ee05>\u001b[0m in \u001b[0;36m<module>\u001b[1;34m\u001b[0m\n\u001b[1;32m----> 1\u001b[1;33m \u001b[1;32mfrom\u001b[0m \u001b[0mgoogle\u001b[0m\u001b[1;33m.\u001b[0m\u001b[0mcolab\u001b[0m \u001b[1;32mimport\u001b[0m \u001b[0mdrive\u001b[0m\u001b[1;33m\u001b[0m\u001b[1;33m\u001b[0m\u001b[0m\n\u001b[0m\u001b[0;32m      2\u001b[0m \u001b[1;33m\u001b[0m\u001b[0m\n\u001b[0;32m      3\u001b[0m \u001b[1;31m#untuk dataframe\u001b[0m\u001b[1;33m\u001b[0m\u001b[1;33m\u001b[0m\u001b[1;33m\u001b[0m\u001b[0m\n\u001b[0;32m      4\u001b[0m \u001b[1;32mimport\u001b[0m \u001b[0mpandas\u001b[0m \u001b[1;32mas\u001b[0m \u001b[0mpd\u001b[0m\u001b[1;33m\u001b[0m\u001b[1;33m\u001b[0m\u001b[0m\n\u001b[0;32m      5\u001b[0m \u001b[1;32mimport\u001b[0m \u001b[0mre\u001b[0m\u001b[1;33m\u001b[0m\u001b[1;33m\u001b[0m\u001b[0m\n",
      "\u001b[1;31mModuleNotFoundError\u001b[0m: No module named 'google'"
     ]
    }
   ],
   "source": [
    "from google.colab import drive\n",
    "\n",
    "#untuk dataframe\n",
    "import pandas as pd\n",
    "import re\n",
    "\n",
    "#Import sklearn untuk preprocessing dan plit data\n",
    "from sklearn import preprocessing\n",
    "from sklearn.model_selection import train_test_split\n",
    "\n",
    "#Import tensorflow\n",
    "import tensorflow as tf\n",
    "from tensorflow.keras.optimizers import Adam\n",
    "from tensorflow.keras.preprocessing.text import Tokenizer\n",
    "from tensorflow.keras.preprocessing.sequence import pad_sequences\n",
    "from tensorflow.keras.models import Sequential\n",
    "from tensorflow.keras.layers import LSTM, Dense, Dropout, Embedding\n",
    "print(tf.__version__)\n",
    "\n",
    "#Import matplotlib untuk visualisasi data\n",
    "import matplotlib.pyplot as plt"
   ]
  },
  {
   "cell_type": "markdown",
   "metadata": {
    "id": "NUY_aoI3YueF"
   },
   "source": [
    "# Mengimport Dataset dan Melakukan Preprocessing Data\n",
    "\n",
    "Dataset yang digunakan merupakan \"Emotions Dataset for NLP\" -> Train.txt [link text](https://www.kaggle.com/praveengovi/emotions-dataset-for-nlp)\n",
    "\n",
    "Data yang diambil hanya data train.txt karena akan dilakukan simulasi pembagian antara train set dan validation set yaitu sebesar 80% untuk train set dan 20% untuk validation set.\n",
    "\n",
    "Data terbagi atas 2 columns yaitu kolom \"Document\" dan kolom \"Emotion\". Model dibuat untuk mengembangkan emotion classification menggunakan NLP. Selanjutnya model ini dapat digunakan untuk menjawab pertanyaan seperti \"sentimen apa yang didapatkan berdasarkan komentar pelanggan?\"."
   ]
  },
  {
   "cell_type": "code",
   "execution_count": 4,
   "metadata": {
    "colab": {
     "base_uri": "https://localhost:8080/"
    },
    "id": "faowgYraYhhg",
    "outputId": "ae2914b0-38fb-4f45-de32-c2f4e2ca00c2"
   },
   "outputs": [
    {
     "name": "stdout",
     "output_type": "stream",
     "text": [
      "Drive already mounted at /content/drive; to attempt to forcibly remount, call drive.mount(\"/content/drive\", force_remount=True).\n"
     ]
    }
   ],
   "source": [
    "#mount drive\n",
    "drive.mount('/content/drive')"
   ]
  },
  {
   "cell_type": "markdown",
   "metadata": {
    "id": "aE0v5pQ4hkq6"
   },
   "source": [
    "Dilakukan import dataset dan penambahan label untuk header yaitu \"Document\" dan \"Emotion\""
   ]
  },
  {
   "cell_type": "code",
   "execution_count": 15,
   "metadata": {
    "colab": {
     "base_uri": "https://localhost:8080/",
     "height": 204
    },
    "id": "-bS2ZByDd45Y",
    "outputId": "466a5c72-ab17-41dd-98cc-56dd524a47f4"
   },
   "outputs": [
    {
     "data": {
      "text/html": [
       "<div>\n",
       "<style scoped>\n",
       "    .dataframe tbody tr th:only-of-type {\n",
       "        vertical-align: middle;\n",
       "    }\n",
       "\n",
       "    .dataframe tbody tr th {\n",
       "        vertical-align: top;\n",
       "    }\n",
       "\n",
       "    .dataframe thead th {\n",
       "        text-align: right;\n",
       "    }\n",
       "</style>\n",
       "<table border=\"1\" class=\"dataframe\">\n",
       "  <thead>\n",
       "    <tr style=\"text-align: right;\">\n",
       "      <th></th>\n",
       "      <th>Document</th>\n",
       "      <th>Emotion</th>\n",
       "    </tr>\n",
       "  </thead>\n",
       "  <tbody>\n",
       "    <tr>\n",
       "      <th>0</th>\n",
       "      <td>i didnt feel humiliated</td>\n",
       "      <td>sadness</td>\n",
       "    </tr>\n",
       "    <tr>\n",
       "      <th>1</th>\n",
       "      <td>i can go from feeling so hopeless to so damned...</td>\n",
       "      <td>sadness</td>\n",
       "    </tr>\n",
       "    <tr>\n",
       "      <th>2</th>\n",
       "      <td>im grabbing a minute to post i feel greedy wrong</td>\n",
       "      <td>anger</td>\n",
       "    </tr>\n",
       "    <tr>\n",
       "      <th>3</th>\n",
       "      <td>i am ever feeling nostalgic about the fireplac...</td>\n",
       "      <td>love</td>\n",
       "    </tr>\n",
       "    <tr>\n",
       "      <th>4</th>\n",
       "      <td>i am feeling grouchy</td>\n",
       "      <td>anger</td>\n",
       "    </tr>\n",
       "  </tbody>\n",
       "</table>\n",
       "</div>"
      ],
      "text/plain": [
       "                                            Document  Emotion\n",
       "0                            i didnt feel humiliated  sadness\n",
       "1  i can go from feeling so hopeless to so damned...  sadness\n",
       "2   im grabbing a minute to post i feel greedy wrong    anger\n",
       "3  i am ever feeling nostalgic about the fireplac...     love\n",
       "4                               i am feeling grouchy    anger"
      ]
     },
     "execution_count": 15,
     "metadata": {
      "tags": []
     },
     "output_type": "execute_result"
    }
   ],
   "source": [
    "#importing data\n",
    "data = pd.read_csv(\"/content/drive/My Drive/Dicoding/Submission1/train.txt\", sep = \";\", names = [\"Document\", \"Emotion\"])\n",
    "data.head()"
   ]
  },
  {
   "cell_type": "markdown",
   "metadata": {
    "id": "RgTUP0l6h_yd"
   },
   "source": [
    "Mengecek klasifikasi data dan jumlahnya."
   ]
  },
  {
   "cell_type": "code",
   "execution_count": 16,
   "metadata": {
    "colab": {
     "base_uri": "https://localhost:8080/"
    },
    "id": "l69xsqs3gjxn",
    "outputId": "3972276c-8907-4260-bf27-b07ec2a307ca"
   },
   "outputs": [
    {
     "data": {
      "text/plain": [
       "joy         5362\n",
       "sadness     4666\n",
       "anger       2159\n",
       "fear        1937\n",
       "love        1304\n",
       "surprise     572\n",
       "Name: Emotion, dtype: int64"
      ]
     },
     "execution_count": 16,
     "metadata": {
      "tags": []
     },
     "output_type": "execute_result"
    }
   ],
   "source": [
    "data[\"Emotion\"].value_counts()"
   ]
  },
  {
   "cell_type": "markdown",
   "metadata": {
    "id": "xAjCJnGait2U"
   },
   "source": [
    "Melakukan preprocessing data yaitu penghapusan special character dan \"Document\" sebelumnya."
   ]
  },
  {
   "cell_type": "code",
   "execution_count": 17,
   "metadata": {
    "colab": {
     "base_uri": "https://localhost:8080/",
     "height": 204
    },
    "id": "fSkvNPcHiLd0",
    "outputId": "e64a2f32-8cc8-4762-9842-2c0e5da64812"
   },
   "outputs": [
    {
     "data": {
      "text/html": [
       "<div>\n",
       "<style scoped>\n",
       "    .dataframe tbody tr th:only-of-type {\n",
       "        vertical-align: middle;\n",
       "    }\n",
       "\n",
       "    .dataframe tbody tr th {\n",
       "        vertical-align: top;\n",
       "    }\n",
       "\n",
       "    .dataframe thead th {\n",
       "        text-align: right;\n",
       "    }\n",
       "</style>\n",
       "<table border=\"1\" class=\"dataframe\">\n",
       "  <thead>\n",
       "    <tr style=\"text-align: right;\">\n",
       "      <th></th>\n",
       "      <th>Emotion</th>\n",
       "      <th>Doc</th>\n",
       "    </tr>\n",
       "  </thead>\n",
       "  <tbody>\n",
       "    <tr>\n",
       "      <th>0</th>\n",
       "      <td>sadness</td>\n",
       "      <td>i didnt feel humiliated</td>\n",
       "    </tr>\n",
       "    <tr>\n",
       "      <th>1</th>\n",
       "      <td>sadness</td>\n",
       "      <td>i can go from feeling so hopeless to so damned...</td>\n",
       "    </tr>\n",
       "    <tr>\n",
       "      <th>2</th>\n",
       "      <td>anger</td>\n",
       "      <td>im grabbing a minute to post i feel greedy wrong</td>\n",
       "    </tr>\n",
       "    <tr>\n",
       "      <th>3</th>\n",
       "      <td>love</td>\n",
       "      <td>i am ever feeling nostalgic about the fireplac...</td>\n",
       "    </tr>\n",
       "    <tr>\n",
       "      <th>4</th>\n",
       "      <td>anger</td>\n",
       "      <td>i am feeling grouchy</td>\n",
       "    </tr>\n",
       "  </tbody>\n",
       "</table>\n",
       "</div>"
      ],
      "text/plain": [
       "   Emotion                                                Doc\n",
       "0  sadness                            i didnt feel humiliated\n",
       "1  sadness  i can go from feeling so hopeless to so damned...\n",
       "2    anger   im grabbing a minute to post i feel greedy wrong\n",
       "3     love  i am ever feeling nostalgic about the fireplac...\n",
       "4    anger                               i am feeling grouchy"
      ]
     },
     "execution_count": 17,
     "metadata": {
      "tags": []
     },
     "output_type": "execute_result"
    }
   ],
   "source": [
    "# Menghapus special character di kolom text\n",
    "data[\"Doc\"] = data[\"Document\"].map(lambda x: re.sub(r'\\W+', ' ', x))\n",
    "# drop kolom document lama\n",
    "data = data.drop([\"Document\"], axis=1)\n",
    "data.head()"
   ]
  },
  {
   "cell_type": "markdown",
   "metadata": {
    "id": "tgmGffzQkyPn"
   },
   "source": [
    "Melakukan pengecekan nilai kosong / NaN"
   ]
  },
  {
   "cell_type": "code",
   "execution_count": 18,
   "metadata": {
    "colab": {
     "base_uri": "https://localhost:8080/"
    },
    "id": "zpnGzN84kgyi",
    "outputId": "0b4f33fd-2b0d-41e8-80ee-7597a70e7352"
   },
   "outputs": [
    {
     "data": {
      "text/plain": [
       "False"
      ]
     },
     "execution_count": 18,
     "metadata": {
      "tags": []
     },
     "output_type": "execute_result"
    }
   ],
   "source": [
    "data.isnull().values.any()"
   ]
  },
  {
   "cell_type": "markdown",
   "metadata": {
    "id": "2kNVx4Kzk6HG"
   },
   "source": [
    "Diketahui bahwa nilai kosongnya \"False\" yang artinya tidak ada nilai kosong pada data.\n",
    "\n",
    "Selanjutnya, akan dilakukan pelabelan pada Emotion."
   ]
  },
  {
   "cell_type": "code",
   "execution_count": 19,
   "metadata": {
    "colab": {
     "base_uri": "https://localhost:8080/",
     "height": 419
    },
    "id": "e5UTpjTUk5Eb",
    "outputId": "ac5e208c-2017-4730-b90c-5050cba00de1"
   },
   "outputs": [
    {
     "data": {
      "text/html": [
       "<div>\n",
       "<style scoped>\n",
       "    .dataframe tbody tr th:only-of-type {\n",
       "        vertical-align: middle;\n",
       "    }\n",
       "\n",
       "    .dataframe tbody tr th {\n",
       "        vertical-align: top;\n",
       "    }\n",
       "\n",
       "    .dataframe thead th {\n",
       "        text-align: right;\n",
       "    }\n",
       "</style>\n",
       "<table border=\"1\" class=\"dataframe\">\n",
       "  <thead>\n",
       "    <tr style=\"text-align: right;\">\n",
       "      <th></th>\n",
       "      <th>Doc</th>\n",
       "      <th>anger</th>\n",
       "      <th>fear</th>\n",
       "      <th>joy</th>\n",
       "      <th>love</th>\n",
       "      <th>sadness</th>\n",
       "      <th>surprise</th>\n",
       "    </tr>\n",
       "  </thead>\n",
       "  <tbody>\n",
       "    <tr>\n",
       "      <th>0</th>\n",
       "      <td>i didnt feel humiliated</td>\n",
       "      <td>0</td>\n",
       "      <td>0</td>\n",
       "      <td>0</td>\n",
       "      <td>0</td>\n",
       "      <td>1</td>\n",
       "      <td>0</td>\n",
       "    </tr>\n",
       "    <tr>\n",
       "      <th>1</th>\n",
       "      <td>i can go from feeling so hopeless to so damned...</td>\n",
       "      <td>0</td>\n",
       "      <td>0</td>\n",
       "      <td>0</td>\n",
       "      <td>0</td>\n",
       "      <td>1</td>\n",
       "      <td>0</td>\n",
       "    </tr>\n",
       "    <tr>\n",
       "      <th>2</th>\n",
       "      <td>im grabbing a minute to post i feel greedy wrong</td>\n",
       "      <td>1</td>\n",
       "      <td>0</td>\n",
       "      <td>0</td>\n",
       "      <td>0</td>\n",
       "      <td>0</td>\n",
       "      <td>0</td>\n",
       "    </tr>\n",
       "    <tr>\n",
       "      <th>3</th>\n",
       "      <td>i am ever feeling nostalgic about the fireplac...</td>\n",
       "      <td>0</td>\n",
       "      <td>0</td>\n",
       "      <td>0</td>\n",
       "      <td>1</td>\n",
       "      <td>0</td>\n",
       "      <td>0</td>\n",
       "    </tr>\n",
       "    <tr>\n",
       "      <th>4</th>\n",
       "      <td>i am feeling grouchy</td>\n",
       "      <td>1</td>\n",
       "      <td>0</td>\n",
       "      <td>0</td>\n",
       "      <td>0</td>\n",
       "      <td>0</td>\n",
       "      <td>0</td>\n",
       "    </tr>\n",
       "    <tr>\n",
       "      <th>...</th>\n",
       "      <td>...</td>\n",
       "      <td>...</td>\n",
       "      <td>...</td>\n",
       "      <td>...</td>\n",
       "      <td>...</td>\n",
       "      <td>...</td>\n",
       "      <td>...</td>\n",
       "    </tr>\n",
       "    <tr>\n",
       "      <th>15995</th>\n",
       "      <td>i just had a very brief time in the beanbag an...</td>\n",
       "      <td>0</td>\n",
       "      <td>0</td>\n",
       "      <td>0</td>\n",
       "      <td>0</td>\n",
       "      <td>1</td>\n",
       "      <td>0</td>\n",
       "    </tr>\n",
       "    <tr>\n",
       "      <th>15996</th>\n",
       "      <td>i am now turning and i feel pathetic that i am...</td>\n",
       "      <td>0</td>\n",
       "      <td>0</td>\n",
       "      <td>0</td>\n",
       "      <td>0</td>\n",
       "      <td>1</td>\n",
       "      <td>0</td>\n",
       "    </tr>\n",
       "    <tr>\n",
       "      <th>15997</th>\n",
       "      <td>i feel strong and good overall</td>\n",
       "      <td>0</td>\n",
       "      <td>0</td>\n",
       "      <td>1</td>\n",
       "      <td>0</td>\n",
       "      <td>0</td>\n",
       "      <td>0</td>\n",
       "    </tr>\n",
       "    <tr>\n",
       "      <th>15998</th>\n",
       "      <td>i feel like this was such a rude comment and i...</td>\n",
       "      <td>1</td>\n",
       "      <td>0</td>\n",
       "      <td>0</td>\n",
       "      <td>0</td>\n",
       "      <td>0</td>\n",
       "      <td>0</td>\n",
       "    </tr>\n",
       "    <tr>\n",
       "      <th>15999</th>\n",
       "      <td>i know a lot but i feel so stupid because i ca...</td>\n",
       "      <td>0</td>\n",
       "      <td>0</td>\n",
       "      <td>0</td>\n",
       "      <td>0</td>\n",
       "      <td>1</td>\n",
       "      <td>0</td>\n",
       "    </tr>\n",
       "  </tbody>\n",
       "</table>\n",
       "<p>16000 rows × 7 columns</p>\n",
       "</div>"
      ],
      "text/plain": [
       "                                                     Doc  ...  surprise\n",
       "0                                i didnt feel humiliated  ...         0\n",
       "1      i can go from feeling so hopeless to so damned...  ...         0\n",
       "2       im grabbing a minute to post i feel greedy wrong  ...         0\n",
       "3      i am ever feeling nostalgic about the fireplac...  ...         0\n",
       "4                                   i am feeling grouchy  ...         0\n",
       "...                                                  ...  ...       ...\n",
       "15995  i just had a very brief time in the beanbag an...  ...         0\n",
       "15996  i am now turning and i feel pathetic that i am...  ...         0\n",
       "15997                     i feel strong and good overall  ...         0\n",
       "15998  i feel like this was such a rude comment and i...  ...         0\n",
       "15999  i know a lot but i feel so stupid because i ca...  ...         0\n",
       "\n",
       "[16000 rows x 7 columns]"
      ]
     },
     "execution_count": 19,
     "metadata": {
      "tags": []
     },
     "output_type": "execute_result"
    }
   ],
   "source": [
    "category = pd.get_dummies(data.Emotion)\n",
    "data_baru = pd.concat([data, category], axis=1)\n",
    "data_baru = data_baru.drop(columns=\"Emotion\")\n",
    "data_baru"
   ]
  },
  {
   "cell_type": "markdown",
   "metadata": {
    "id": "2hbNID_hl1Yg"
   },
   "source": [
    "Agar dapat diproses oleh model, nilai-nilai dari dataframe diubah ke dalam tipe data numpy array menggunakan atribut values."
   ]
  },
  {
   "cell_type": "code",
   "execution_count": 28,
   "metadata": {
    "id": "lDnJ-NW7lhts"
   },
   "outputs": [],
   "source": [
    "text = data_baru[\"Doc\"].values\n",
    "label = data_baru[[\"anger\", \"fear\", \"joy\", \"love\", \"sadness\", \"surprise\"]].values"
   ]
  },
  {
   "cell_type": "markdown",
   "metadata": {
    "id": "6KAG89fnmj20"
   },
   "source": [
    "# Membagi data menjadi data training dan data validation\n",
    "\n",
    "Membagi data sebagai train set sebanyak 80% dan validation set sebanyak 20%."
   ]
  },
  {
   "cell_type": "code",
   "execution_count": 29,
   "metadata": {
    "id": "vmV31nYgmeU5"
   },
   "outputs": [],
   "source": [
    "text_train, text_val, label_train, label_val = train_test_split(text, label, test_size = 0.2)"
   ]
  },
  {
   "cell_type": "markdown",
   "metadata": {
    "id": "YSetLVylpMv8"
   },
   "source": [
    "# Menggunakan fungsi tokenizer"
   ]
  },
  {
   "cell_type": "code",
   "execution_count": 30,
   "metadata": {
    "id": "b_VxFmUrnNWI"
   },
   "outputs": [],
   "source": [
    "tokenizer = Tokenizer(num_words=5000, oov_token='x')\n",
    "tokenizer.fit_on_texts(text_train)\n",
    "tokenizer.fit_on_texts(text_val)\n",
    " \n",
    "seq_train = tokenizer.texts_to_sequences(text_train)\n",
    "seq_val = tokenizer.texts_to_sequences(text_val)\n",
    " \n",
    "padded_train = pad_sequences(seq_train)\n",
    "padded_val = pad_sequences(seq_val)"
   ]
  },
  {
   "cell_type": "markdown",
   "metadata": {
    "id": "MmfMNJ1FuAxp"
   },
   "source": [
    "# Model Menggunakan LSTM dan Sequential"
   ]
  },
  {
   "cell_type": "code",
   "execution_count": 49,
   "metadata": {
    "id": "ma1JiqAQt_ST"
   },
   "outputs": [],
   "source": [
    "model = tf.keras.Sequential([\n",
    "    tf.keras.layers.Embedding(input_dim=5000, output_dim=16),\n",
    "    tf.keras.layers.LSTM(64),\n",
    "    tf.keras.layers.Dense(128, activation='relu'),\n",
    "    tf.keras.layers.Dense(6, activation='softmax')\n",
    "])"
   ]
  },
  {
   "cell_type": "markdown",
   "metadata": {
    "id": "x-Lh-GQ1u_9P"
   },
   "source": [
    "Model compile dengan optimizer Adam."
   ]
  },
  {
   "cell_type": "code",
   "execution_count": 50,
   "metadata": {
    "id": "p7tCUP76vza6"
   },
   "outputs": [],
   "source": [
    "Adam(learning_rate=0.00146, name='Adam')\n",
    "model.compile(optimizer = 'Adam',loss = 'categorical_crossentropy',metrics = ['accuracy'])"
   ]
  },
  {
   "cell_type": "markdown",
   "metadata": {
    "id": "RTNfOU3NzkRn"
   },
   "source": [
    "Melakukan implementasi callback untuk mendapatkan akurasi > 90%"
   ]
  },
  {
   "cell_type": "code",
   "execution_count": 51,
   "metadata": {
    "id": "x7NWhQ4Pzq3z"
   },
   "outputs": [],
   "source": [
    "class myCallback(tf.keras.callbacks.Callback):\n",
    "  def on_epoch_end(self, epoch, logs={}):\n",
    "    if(logs.get('accuracy')>0.9 and logs.get('val_accuracy')>0.9):\n",
    "      print(\"\\nAkurasi train dan validasi telah mencapai nilai > 90%!\")\n",
    "      self.model.stop_training = True\n",
    "callbacks = myCallback()"
   ]
  },
  {
   "cell_type": "markdown",
   "metadata": {
    "id": "A_dtOXMDv8m6"
   },
   "source": [
    "Selanjutnya, melatih model kita dengan memanggil fungsi fit()."
   ]
  },
  {
   "cell_type": "code",
   "execution_count": 52,
   "metadata": {
    "colab": {
     "base_uri": "https://localhost:8080/"
    },
    "id": "0-T_cL-xv5mI",
    "outputId": "d0fc9766-6566-4a4e-f046-25b0cb468f2c"
   },
   "outputs": [
    {
     "name": "stdout",
     "output_type": "stream",
     "text": [
      "Epoch 1/30\n",
      "400/400 [==============================] - 13s 30ms/step - loss: 1.4735 - accuracy: 0.3654 - val_loss: 1.1648 - val_accuracy: 0.4575\n",
      "Epoch 2/30\n",
      "400/400 [==============================] - 11s 29ms/step - loss: 1.0095 - accuracy: 0.5437 - val_loss: 0.8103 - val_accuracy: 0.6969\n",
      "Epoch 3/30\n",
      "400/400 [==============================] - 12s 29ms/step - loss: 0.5520 - accuracy: 0.8086 - val_loss: 0.5249 - val_accuracy: 0.8247\n",
      "Epoch 4/30\n",
      "400/400 [==============================] - 11s 29ms/step - loss: 0.3169 - accuracy: 0.8884 - val_loss: 0.4264 - val_accuracy: 0.8519\n",
      "Epoch 5/30\n",
      "400/400 [==============================] - 11s 29ms/step - loss: 0.1937 - accuracy: 0.9326 - val_loss: 0.3627 - val_accuracy: 0.8844\n",
      "Epoch 6/30\n",
      "400/400 [==============================] - 12s 29ms/step - loss: 0.1350 - accuracy: 0.9511 - val_loss: 0.4092 - val_accuracy: 0.8809\n",
      "Epoch 7/30\n",
      "400/400 [==============================] - 12s 29ms/step - loss: 0.1024 - accuracy: 0.9656 - val_loss: 0.3474 - val_accuracy: 0.8944\n",
      "Epoch 8/30\n",
      "400/400 [==============================] - 12s 29ms/step - loss: 0.0748 - accuracy: 0.9739 - val_loss: 0.3897 - val_accuracy: 0.8916\n",
      "Epoch 9/30\n",
      "400/400 [==============================] - 11s 29ms/step - loss: 0.0633 - accuracy: 0.9773 - val_loss: 0.4303 - val_accuracy: 0.8950\n",
      "Epoch 10/30\n",
      "400/400 [==============================] - 12s 29ms/step - loss: 0.0546 - accuracy: 0.9807 - val_loss: 0.3992 - val_accuracy: 0.8956\n",
      "Epoch 11/30\n",
      "400/400 [==============================] - 12s 29ms/step - loss: 0.0441 - accuracy: 0.9851 - val_loss: 0.4423 - val_accuracy: 0.9022\n",
      "\n",
      "Akurasi train dan validasi telah mencapai nilai > 90%!\n"
     ]
    }
   ],
   "source": [
    "num_epochs = 30\n",
    "history = model.fit(padded_train, label_train, epochs=num_epochs, validation_data=(padded_val, label_val), verbose=1, callbacks=[callbacks])"
   ]
  },
  {
   "cell_type": "markdown",
   "metadata": {
    "id": "ftcN9UREzf_B"
   },
   "source": [
    "# Mengeluarkan Plot Accuracy dan Plot Loss untuk Train Set dan Validation Set"
   ]
  },
  {
   "cell_type": "code",
   "execution_count": 54,
   "metadata": {
    "colab": {
     "base_uri": "https://localhost:8080/",
     "height": 573
    },
    "id": "8bJnzqfnwhm4",
    "outputId": "ea8dd66f-b668-4a91-f188-cc3704b9cd16"
   },
   "outputs": [
    {
     "data": {
      "image/png": "[encoded data removed]",
      "text/plain": [
       "<Figure size 432x288 with 1 Axes>"
      ]
     },
     "metadata": {
      "needs_background": "light",
      "tags": []
     },
     "output_type": "display_data"
    },
    {
     "data": {
      "image/png": "[encoded data removed]",
      "text/plain": [
       "<Figure size 432x288 with 1 Axes>"
      ]
     },
     "metadata": {
      "needs_background": "light",
      "tags": []
     },
     "output_type": "display_data"
    }
   ],
   "source": [
    "# Plot Accuracy\n",
    "plt.plot(history.history['accuracy'])\n",
    "plt.plot(history.history['val_accuracy'])\n",
    "plt.title('Accuracy Model')\n",
    "plt.ylabel('accuracy')\n",
    "plt.xlabel('epoch')\n",
    "plt.legend(['train', 'validation'], loc='upper left')\n",
    "plt.show()\n",
    "\n",
    "# Plot Loss\n",
    "plt.plot(history.history['loss'])\n",
    "plt.plot(history.history['val_loss'])\n",
    "plt.title('Loss Model')\n",
    "plt.ylabel('loss')\n",
    "plt.xlabel('epoch')\n",
    "plt.legend(['train', 'validation'], loc='upper right')\n",
    "plt.show()"
   ]
  }
 ],
 "metadata": {
  "colab": {
   "collapsed_sections": [
    "O60qBehPK7RD"
   ],
   "name": "Submission_Espreilla Harin Widhastika_Membuat Model NLP dengan TensorFlow.ipynb",
   "provenance": []
  },
  "kernelspec": {
   "display_name": "Python 3",
   "language": "python",
   "name": "python3"
  },
  "language_info": {
   "codemirror_mode": {
    "name": "ipython",
    "version": 3
   },
   "file_extension": ".py",
   "mimetype": "text/x-python",
   "name": "python",
   "nbconvert_exporter": "python",
   "pygments_lexer": "ipython3",
   "version": "3.8.8"
  }
 },
 "nbformat": 4,
 "nbformat_minor": 1
}
